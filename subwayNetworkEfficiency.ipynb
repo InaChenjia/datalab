{
 "cells": [
  {
   "cell_type": "markdown",
   "metadata": {},
   "source": [
    "### Compute efficiency in unweighted network"
   ]
  },
  {
   "cell_type": "code",
   "execution_count": 1,
   "metadata": {
    "collapsed": false
   },
   "outputs": [],
   "source": [
    "import networkx as nx\n",
    "\n",
    "def calculate_e_global(G):\n",
    "    E = 0.0\n",
    "    Eid = 0.0\n",
    "    # compute shortest path lengths in weighted network\n",
    "    path_lengths = nx.shortest_path_length(G)\n",
    "    for i in path_lengths.values():\n",
    "        for j in i.values():\n",
    "            if j != 0:\n",
    "                E += 1.0 / j\n",
    "    # compute the efficieny in ideal G\n",
    "    for x in G.nodes():\n",
    "        for y in G.nodes():\n",
    "            if x != y:\n",
    "                Eid += 1\n",
    "    # normalize E\n",
    "    if Eid != 0:\n",
    "        E = E / Eid\n",
    "    else:\n",
    "        E = 0\n",
    "    return E\n",
    "    \n",
    "def calculate_e_local(G):\n",
    "    avg = 0.0\n",
    "    for node in G:\n",
    "        # build a subgraph using neighbors of current node\n",
    "        subGraph = G.subgraph(nx.bfs_successors(G,node)[node])\n",
    "        avg += calculate_e_global(subGraph)\n",
    "    avg = avg/len(G)\n",
    "    return avg\n",
    "\n",
    "def build_graph(cityName):\n",
    "    with open(\"/home/czc/Documents/Data/quanturb-metro-network-data-cities-2009/\" + cityName + \"-2009-adjacency.net\") as f:\n",
    "        data =  f.readlines()\n",
    "    stopdict = {}\n",
    "    G = nx.Graph()\n",
    "    for i in data:\n",
    "        if i.split(\" \")[-1] == '1\\r\\n': # The edge lines are ended with 1\n",
    "            start = i.split(\" \")[0]\n",
    "            end = i.split(\" \")[1]\n",
    "            G.add_edge(start, end)\n",
    "    return G"
   ]
  },
  {
   "cell_type": "code",
   "execution_count": 2,
   "metadata": {
    "collapsed": false
   },
   "outputs": [
    {
     "name": "stdout",
     "output_type": "stream",
     "text": [
      "NewYork eglob =  0.0732230925809\n",
      "NewYork eloc =  0.017277026284\n",
      "HongKong eglob =  0.150245958251\n",
      "HongKong eloc =  0.00609756097561\n",
      "Madrid eglob =  0.120476760921\n",
      "Madrid eloc =  0.00614035087719\n",
      "Chicago eglob =  0.114162607041\n",
      "Chicago eloc =  0.0182033096927\n",
      "Berlin eglob =  0.109005791837\n",
      "Berlin eloc =  0.00588235294118\n",
      "Beijing eglob =  0.149773533382\n",
      "Beijing eloc =  0.0201923076923\n",
      "Barcelona eglob =  0.14413603838\n",
      "Barcelona eloc =  0.008984375\n",
      "Shanghai eglob =  0.119685146129\n",
      "Shanghai eloc =  0.00292792792793\n",
      "Tokyo eglob =  0.137223621792\n",
      "Tokyo eloc =  0.0236705434862\n",
      "Paris eglob =  0.116207527235\n",
      "Paris eloc =  0.0215320910973\n",
      "Seoul eglob =  0.0762680146974\n",
      "Seoul eloc =  0.00595238095238\n",
      "Moscow eglob =  0.151920095643\n",
      "Moscow eloc =  0.0195273631841\n",
      "Mexico eglob =  0.134071376436\n",
      "Mexico eloc =  0.00340136054422\n",
      "Osaka eglob =  0.162369801757\n",
      "Osaka eloc =  0.0\n",
      "London eglob =  0.105336552759\n",
      "London eloc =  0.0365198711063\n"
     ]
    }
   ],
   "source": [
    "import matplotlib.pyplot as plt\n",
    "% matplotlib inline\n",
    "\n",
    "citylist = [\"NewYork\", \"HongKong\", \"Madrid\", \"Chicago\", \"Berlin\", \"Beijing\", \"Barcelona\", \"Shanghai\", \"Tokyo\", \"Paris\", \"Seoul\", \"Moscow\", \"Mexico\", \"Osaka\", \"London\"]\n",
    "Eglobs = []\n",
    "Elocs = []\n",
    "for i in citylist:\n",
    "    G = build_graph(i)\n",
    "    eglob = calculate_e_global(G)\n",
    "    eloc = calculate_e_local(G)\n",
    "    print i, \"eglob = \", eglob\n",
    "    print i, \"eloc = \", eloc\n",
    "    Eglobs.append(eglob)\n",
    "    Elocs.append(eloc)"
   ]
  },
  {
   "cell_type": "code",
   "execution_count": 10,
   "metadata": {
    "collapsed": false
   },
   "outputs": [
    {
     "data": {
      "image/png": "[encoded data removed]",
      "text/plain": [
       "<matplotlib.figure.Figure at 0x7f6271c30a50>"
      ]
     },
     "metadata": {},
     "output_type": "display_data"
    }
   ],
   "source": [
    "fig = plt.figure(figsize=(10, 5),facecolor='white')\n",
    "ax = fig.add_subplot(1,1,1)\n",
    "Elocs = [i + 0.000001 for i in Elocs]\n",
    "ax.scatter(Elocs, Eglobs, c = 'b')\n",
    "for i,j in enumerate(citylist):\n",
    "    plt.text(Elocs[i], Eglobs[i], j)\n",
    "#ax.set_xticks([ i+0.5 for i in range(len(citylist))])\n",
    "#ax.set_xticklabels(citylist, rotation= 45)\n",
    "plt.ylabel('Eglob')\n",
    "plt.xlabel('Eloc')\n",
    "#plt.xscale('log')\n",
    "plt.show()"
   ]
  },
  {
   "cell_type": "code",
   "execution_count": 3,
   "metadata": {
    "collapsed": false
   },
   "outputs": [
    {
     "data": {
      "image/png": "[encoded data removed]",
      "text/plain": [
       "<matplotlib.figure.Figure at 0x7f26b3e804d0>"
      ]
     },
     "metadata": {},
     "output_type": "display_data"
    }
   ],
   "source": [
    "fig = plt.figure(figsize=(10, 5),facecolor='white')\n",
    "ax = fig.add_subplot(1,1,1)\n",
    "ax.scatter(range(len(citylist)), Eglobs, c = 'b')\n",
    "ax.scatter(range(len(citylist)), Elocs, c = 'r')\n",
    "ax.set_xticks([ i+0.5 for i in range(len(citylist))])\n",
    "ax.set_xticklabels(citylist, rotation= 45)\n",
    "# plt.ylabel('Eglob')\n",
    "# plt.yscale('log')\n",
    "plt.show()"
   ]
  },
  {
   "cell_type": "markdown",
   "metadata": {},
   "source": [
    "### Compute efficiency in weighted network"
   ]
  },
  {
   "cell_type": "code",
   "execution_count": 11,
   "metadata": {
    "collapsed": false
   },
   "outputs": [],
   "source": [
    "from math import *\n",
    "import networkx as nx\n",
    "import string\n",
    "\n",
    "def dis(lat1,lon1,lat2,lon2):\n",
    "    R = 6373.0 # convert Earth's radius in kilometers\n",
    "    lat1 = radians(lat1)\n",
    "    lon1 = radians(lon1)\n",
    "    lat2 = radians(lat2)\n",
    "    lon2 = radians(lon2)\n",
    "    dlon = lon2 - lon1\n",
    "    dlat = lat2 - lat1\n",
    "    a = (sin(dlat/2))**2 + cos(lat1) * cos(lat2) * (sin(dlon/2))**2\n",
    "    c = 2 * atan2(sqrt(a), sqrt(1-a))\n",
    "    distance = R * c\n",
    "    return distance\n",
    "\n",
    "def calculate_e_global_with_weight(G):\n",
    "    E = 0.0\n",
    "    Eid = 0.0\n",
    "    lats = nx.get_node_attributes(G, 'lat')\n",
    "    lons = nx.get_node_attributes(G, 'lon')\n",
    "    # compute shortest path lengths in weighted network\n",
    "    path_lengths = nx.shortest_path_length(G, weight = 'weight')\n",
    "    for i in path_lengths.values():\n",
    "        for j in i.values():\n",
    "            if j != 0:\n",
    "                E += 1.0 / j\n",
    "    # compute the efficieny in ideal G\n",
    "    for x in G.nodes():\n",
    "        for y in G.nodes():\n",
    "            if x != y:\n",
    "                l = dis(string.atof(lats[x]), \n",
    "                        string.atof(lons[x]), \n",
    "                        string.atof(lats[y]), \n",
    "                        string.atof(lons[y]))\n",
    "                if l != 0:\n",
    "                    Eid += 1.0 / l\n",
    "    # normalize E\n",
    "    if Eid != 0:\n",
    "        E = E / Eid\n",
    "    else:\n",
    "        E = 0\n",
    "    return E\n",
    "    \n",
    "def calculate_e_local_with_weight(G):\n",
    "    avg = 0.0\n",
    "    for node in G:\n",
    "        # build a subgraph using neighbors of current node\n",
    "        subGraph = G.subgraph(nx.bfs_successors(G,node)[node])\n",
    "        avg += calculate_e_global_with_weight(subGraph)\n",
    "    avg = avg/len(G)\n",
    "    return avg\n",
    "\n",
    "def build_graph(cityName):\n",
    "    with open(\"/home/czc/Documents/Data/quanturb-metro-network-data-cities-2009/\" + cityName + \"-2009-adjacency.net\") as f:\n",
    "        data =  f.readlines()\n",
    "    G = nx.Graph()\n",
    "    for i in data:\n",
    "        if i.split(\" \")[-1] == '0\\r\\n': # The stop lines are ended with 0\n",
    "            stop_id = i.split(\" \")[0]\n",
    "            stop_name = i.split(\" \")[1][1:-1]\n",
    "            stop_lat = i.split(\" \")[2]\n",
    "            stop_lon = i.split(\" \")[3]\n",
    "            G.add_node(stop_id, name = stop_name, lat = stop_lat, lon = stop_lon)\n",
    "    lats = nx.get_node_attributes(G, 'lat')\n",
    "    lons = nx.get_node_attributes(G, 'lon')\n",
    "    for i in data:\n",
    "        if i.split(\" \")[-1] == '1\\r\\n': # The edge lines are ended with 1\n",
    "            start = i.split(\" \")[0]\n",
    "            end = i.split(\" \")[1]\n",
    "            # compute geodistance between i,j in edges of G\n",
    "            geodistance = dis(string.atof(lats[start]), \n",
    "                              string.atof(lons[start]), \n",
    "                              string.atof(lats[end]), \n",
    "                              string.atof(lons[end]))\n",
    "            # add weight to each edges\n",
    "            G.add_edge(start, end, weight = geodistance)\n",
    "    return G"
   ]
  },
  {
   "cell_type": "code",
   "execution_count": 12,
   "metadata": {
    "collapsed": false
   },
   "outputs": [
    {
     "name": "stdout",
     "output_type": "stream",
     "text": [
      "NewYork eglob =  0.456902491531\n",
      "NewYork eloc =  0.0214159941472\n",
      "HongKong eglob =  0.691950073921\n",
      "HongKong eloc =  0.0086679239719\n",
      "Madrid eglob =  0.698131375437\n",
      "Madrid eloc =  0.00940506550975\n",
      "Chicago eglob =  0.688879922966\n",
      "Chicago eloc =  0.0246536199797\n",
      "Berlin eglob =  0.76774320445\n",
      "Berlin eloc =  0.0101252549394\n",
      "Beijing eglob =  0.811090878268\n",
      "Beijing eloc =  0.02097079582\n",
      "Barcelona eglob =  0.716385038008\n",
      "Barcelona eloc =  0.0145629709643\n",
      "Shanghai eglob =  0.743953717112\n",
      "Shanghai eloc =  0.00400749183081\n",
      "Tokyo eglob =  0.690998903542\n",
      "Tokyo eloc =  0.0292678279605\n",
      "Paris eglob =  0.757936546209\n",
      "Paris eloc =  0.0286036481677\n",
      "Seoul eglob =  0.75896088254\n",
      "Seoul eloc =  0.00825869068379\n",
      "Moscow eglob =  0.773219609153\n",
      "Moscow eloc =  0.0284921902766\n",
      "Mexico eglob =  0.788183375414\n",
      "Mexico eloc =  0.00512519764281\n",
      "Osaka eglob =  0.716981540408\n",
      "Osaka eloc =  0.0\n",
      "London eglob =  0.722458880712\n",
      "London eloc =  0.0467719800326\n"
     ]
    }
   ],
   "source": [
    "import matplotlib.pyplot as plt\n",
    "% matplotlib inline\n",
    "\n",
    "citylist = [\"NewYork\", \"HongKong\", \"Madrid\", \"Chicago\", \"Berlin\", \"Beijing\", \"Barcelona\", \"Shanghai\", \"Tokyo\", \"Paris\", \"Seoul\", \"Moscow\", \"Mexico\", \"Osaka\", \"London\"]\n",
    "Eglobs = []\n",
    "Elocs = []\n",
    "for i in citylist:\n",
    "    G = build_graph(i)\n",
    "    eglob = calculate_e_global_with_weight(G)\n",
    "    eloc = calculate_e_local_with_weight(G)\n",
    "    print i, \"eglob = \", eglob\n",
    "    print i, \"eloc = \", eloc\n",
    "    Eglobs.append(eglob)\n",
    "    Elocs.append(eloc)"
   ]
  },
  {
   "cell_type": "code",
   "execution_count": 13,
   "metadata": {
    "collapsed": false
   },
   "outputs": [
    {
     "data": {
      "image/png": "[encoded data removed]",
      "text/plain": [
       "<matplotlib.figure.Figure at 0x7f627191af90>"
      ]
     },
     "metadata": {},
     "output_type": "display_data"
    }
   ],
   "source": [
    "fig = plt.figure(figsize=(10, 5),facecolor='white')\n",
    "ax = fig.add_subplot(1,1,1)\n",
    "Elocs = [i + 0.000001 for i in Elocs]\n",
    "ax.scatter(Elocs, Eglobs, c = 'b')\n",
    "for i,j in enumerate(citylist):\n",
    "    plt.text(Elocs[i], Eglobs[i], j)\n",
    "#ax.set_xticks([ i+0.5 for i in range(len(citylist))])\n",
    "#ax.set_xticklabels(citylist, rotation= 45)\n",
    "plt.ylabel('Eglob')\n",
    "plt.xlabel('Eloc')\n",
    "#plt.xscale('log')\n",
    "plt.show()"
   ]
  },
  {
   "cell_type": "code",
   "execution_count": 6,
   "metadata": {
    "collapsed": false
   },
   "outputs": [
    {
     "data": {
      "image/png": "[encoded data removed]",
      "text/plain": [
       "<matplotlib.figure.Figure at 0x7f26b11a22d0>"
      ]
     },
     "metadata": {},
     "output_type": "display_data"
    }
   ],
   "source": [
    "fig = plt.figure(figsize=(10, 5),facecolor='white')\n",
    "ax = fig.add_subplot(1,1,1)\n",
    "ax.scatter(range(len(citylist)), Eglobs, c = 'b')\n",
    "ax.scatter(range(len(citylist)), Elocs, c = 'r')\n",
    "ax.set_xticks([ i+0.5 for i in range(len(citylist))])\n",
    "ax.set_xticklabels(citylist, rotation= 45)\n",
    "# plt.ylabel('Eglob')\n",
    "# plt.yscale('log')\n",
    "plt.show()"
   ]
  },
  {
   "cell_type": "markdown",
   "metadata": {},
   "source": [
    "### Ground truth: compute in a three-nodes graph"
   ]
  },
  {
   "cell_type": "code",
   "execution_count": 7,
   "metadata": {
    "collapsed": false
   },
   "outputs": [
    {
     "name": "stdout",
     "output_type": "stream",
     "text": [
      " Eglob =  0.968002367909\n",
      " Eloc =  0.0\n"
     ]
    }
   ],
   "source": [
    "import networkx as nx\n",
    "import string\n",
    "from math import *\n",
    "\n",
    "def dis(lat1,lon1,lat2,lon2):\n",
    "    R = 6373.0 # convert Earth's radius in kilometers\n",
    "    lat1 = radians(lat1)\n",
    "    lon1 = radians(lon1)\n",
    "    lat2 = radians(lat2)\n",
    "    lon2 = radians(lon2)\n",
    "    dlon = lon2 - lon1\n",
    "    dlat = lat2 - lat1\n",
    "    a = (sin(dlat/2))**2 + cos(lat1) * cos(lat2) * (sin(dlon/2))**2\n",
    "    c = 2 * atan2(sqrt(a), sqrt(1-a))\n",
    "    distance = R * c\n",
    "    return distance\n",
    "\n",
    "def calculate_e_global_with_weight(G):\n",
    "    E = 0.0\n",
    "    Eid = 0.0\n",
    "    lats = nx.get_node_attributes(G, 'lat')\n",
    "    lons = nx.get_node_attributes(G, 'lon')\n",
    "    # compute shortest path lengths in weighted network\n",
    "    path_lengths = nx.shortest_path_length(G, weight = 'geodistance')\n",
    "    for i in path_lengths.values():\n",
    "        for j in i.values():\n",
    "            if j != 0:\n",
    "                E += 1.0 / j\n",
    "    # compute the efficieny in ideal G\n",
    "    for x in G.nodes():\n",
    "        for y in G.nodes():\n",
    "            if x != y:\n",
    "                l = dis(string.atof(lats[x]), \n",
    "                        string.atof(lons[x]), \n",
    "                        string.atof(lats[y]), \n",
    "                        string.atof(lons[y]))\n",
    "                if l != 0:\n",
    "                    Eid += 1.0 / l\n",
    "    # normalize E\n",
    "    if Eid != 0:\n",
    "        E = E / Eid\n",
    "    else:\n",
    "        E = 0\n",
    "    return E\n",
    "    \n",
    "def calculate_e_local_with_weight(G):\n",
    "    avg = 0.0\n",
    "    for node in G:\n",
    "        # build a subgraph using neighbors of current node\n",
    "        subGraph = G.subgraph(nx.bfs_successors(G,node)[node])\n",
    "        avg += calculate_e_global_with_weight(subGraph)\n",
    "    avg = avg/len(G)\n",
    "    return avg\n",
    "\n",
    "G=nx.Graph() \n",
    "G.add_node(1, lat = 22.28021, lon = 114.183482)\n",
    "G.add_node(2, lat = 22.400365, lon = 114.202883)\n",
    "G.add_node(3, lat = 22.382844, lon = 114.203477)\n",
    "\n",
    "lats = nx.get_node_attributes(G, 'lat')\n",
    "lons = nx.get_node_attributes(G, 'lon')\n",
    "\n",
    "G.add_edge(1, 2, geodistance = dis(string.atof(lats[1]), \n",
    "                     string.atof(lons[1]), \n",
    "                     string.atof(lats[2]), \n",
    "                     string.atof(lons[2]))) \n",
    "G.add_edge(2, 3, geodistance = dis(string.atof(lats[2]), \n",
    "                     string.atof(lons[2]), \n",
    "                     string.atof(lats[3]), \n",
    "                     string.atof(lons[3])))\n",
    "\n",
    "print \" Eglob = \", calculate_e_global_with_weight(G)\n",
    "print \" Eloc = \",calculate_e_local_with_weight(G)"
   ]
  },
  {
   "cell_type": "code",
   "execution_count": 8,
   "metadata": {
    "collapsed": false
   },
   "outputs": [
    {
     "name": "stdout",
     "output_type": "stream",
     "text": [
      "Eglob =  0.968002367909\n",
      "Eloc =  0.0\n"
     ]
    }
   ],
   "source": [
    "import networkx as nx\n",
    "import string\n",
    "from math import *\n",
    "\n",
    "def dis(lat1,lon1,lat2,lon2):\n",
    "    R = 6373.0 # convert Earth's radius in kilometers\n",
    "    lat1 = radians(lat1)\n",
    "    lon1 = radians(lon1)\n",
    "    lat2 = radians(lat2)\n",
    "    lon2 = radians(lon2)\n",
    "    dlon = lon2 - lon1\n",
    "    dlat = lat2 - lat1\n",
    "    a = (sin(dlat/2))**2 + cos(lat1) * cos(lat2) * (sin(dlon/2))**2\n",
    "    c = 2 * atan2(sqrt(a), sqrt(1-a))\n",
    "    distance = R * c\n",
    "    return distance\n",
    "\n",
    "G=nx.Graph() \n",
    "G.add_node(1, lat = 22.28021, lon = 114.183482)\n",
    "G.add_node(2, lat = 22.400365, lon = 114.202883)\n",
    "G.add_node(3, lat = 22.382844, lon = 114.203477)\n",
    "\n",
    "lats = nx.get_node_attributes(G, 'lat')\n",
    "lons = nx.get_node_attributes(G, 'lon')\n",
    "\n",
    "G.add_edge(1, 2) \n",
    "G.add_edge(2, 3)\n",
    "\n",
    "d12 = dis(string.atof(lats[1]), \n",
    "          string.atof(lons[1]), \n",
    "          string.atof(lats[2]), \n",
    "          string.atof(lons[2]))\n",
    "d23 = dis(string.atof(lats[2]), \n",
    "          string.atof(lons[2]), \n",
    "          string.atof(lats[3]), \n",
    "          string.atof(lons[3]))\n",
    "d13 = dis(string.atof(lats[1]), \n",
    "          string.atof(lons[1]), \n",
    "          string.atof(lats[3]), \n",
    "          string.atof(lons[3]))\n",
    "\n",
    "E = (1/d12 + 1/d23 + 1/(d12+d23))/(3*2)\n",
    "Eid = (1/d12 + 1/d23 + 1/d13)/(3*2)\n",
    "\n",
    "print \"Eglob = \", E / Eid\n",
    "\n",
    "# compute Eloc\n",
    "# for each node in G, their neighbors are all separated and cannot build a subgraph, so EG1, EG2 and EG3 are all equals to 0\n",
    "EG1 = 0.0\n",
    "EG2 = 0.0\n",
    "EG3 = 0.0\n",
    "print \"Eloc = \", (EG1+EG2+EG3)/3"
   ]
  },
  {
   "cell_type": "code",
   "execution_count": null,
   "metadata": {
    "collapsed": true
   },
   "outputs": [],
   "source": []
  }
 ],
 "metadata": {
  "kernelspec": {
   "display_name": "Python 2",
   "language": "python",
   "name": "python2"
  },
  "language_info": {
   "codemirror_mode": {
    "name": "ipython",
    "version": 2
   },
   "file_extension": ".py",
   "mimetype": "text/x-python",
   "name": "python",
   "nbconvert_exporter": "python",
   "pygments_lexer": "ipython2",
   "version": "2.7.10"
  }
 },
 "nbformat": 4,
 "nbformat_minor": 0
}
