{
 "cells": [
  {
   "cell_type": "code",
   "execution_count": 1,
   "metadata": {
    "collapsed": true
   },
   "outputs": [],
   "source": [
    "def sampling(info):\n",
    "    try:\n",
    "        import cPickle as pickle\n",
    "    except ImportError:\n",
    "        import pickle\n",
    "        \n",
    "    f = open('/home/sysadmin/zhicongchen/data/phone_data/dumps/' + info + '_dump.txt', 'rb')\n",
    "    callers = pickle.load(f)\n",
    "    f.close()\n",
    "    print len(callers)\n",
    "    \n",
    "    import pandas as pd\n",
    "    user_data = pd.read_csv('/home/sysadmin/zhicongchen/data/phone_data/tb_user_info_201202.csv')\n",
    "    acc_nbrs = list(user_data['ACC_NBR'])\n",
    "    acc_nbrs = map(lambda x: str(x), acc_nbrs)\n",
    "    acc_nbrs = set(acc_nbrs)\n",
    "    callers_distinct = list(set(callers) & acc_nbrs)\n",
    "    \n",
    "    import random\n",
    "    N = len(callers_distinct)\n",
    "    n = 1000\n",
    "    samples = [callers_distinct[int(random.random()*N)] for i in range(n)]\n",
    "    \n",
    "    out = open('/home/sysadmin/zhicongchen/mobile-network-analysis/egonetwork/samples/' + info + '_samples.txt', 'w')\n",
    "    for i in samples:\n",
    "        out.write(i+'\\r\\n')\n",
    "    out.close()\n",
    "\n",
    "#print \"call data sampling ...\"\n",
    "#sampling('call')\n",
    "#print \"sms data sampling ...\"\n",
    "#sampling('sms')"
   ]
  },
  {
   "cell_type": "code",
   "execution_count": null,
   "metadata": {
    "collapsed": true
   },
   "outputs": [],
   "source": [
    "def dump_ego_net(info):\n",
    "    try:\n",
    "        import cPickle as pickle\n",
    "    except ImportError:\n",
    "        import pickle\n",
    "    import networkx as nx\n",
    "\n",
    "    try:\n",
    "        f = open('/home/sysadmin/zhicongchen/data/phone_data/dumps/' + info + '_graph_dump.txt', 'rb')\n",
    "        G = pickle.load(f)\n",
    "        f.close()\n",
    "\n",
    "        samples = map(lambda x: x.strip('\\r\\n'), open('/home/sysadmin/zhicongchen/mobile-network-analysis/egonetwork/samples/' + info + '_samples.txt', 'r').readlines())\n",
    "        N = len(samples)\n",
    "\n",
    "        for i in range(N):\n",
    "            center = samples[i]\n",
    "            eg2 = nx.ego_graph(G, center, radius = 2)\n",
    "            eg3 = nx.ego_graph(G, center, radius = 3)\n",
    "            f = open('/home/sysadmin/zhicongchen/data/phone_data/dumps/' + info + '_' + center + '_eg2_dump.txt', 'wb')\n",
    "            pickle.dump(eg2, f)\n",
    "            f.close()\n",
    "            f = open('/home/sysadmin/zhicongchen/data/phone_data/dumps/' + info + '_' + center + '_eg3_dump.txt', 'wb')\n",
    "            pickle.dump(eg3, f)\n",
    "            f.close()\n",
    "    except Exception as e:\n",
    "        print e\n",
    "        \n",
    "print \"call data dumpling ...\"\n",
    "dump_ego_net('call')\n",
    "print \"sms data dumpling ...\"\n",
    "dump_ego_net('sms')"
   ]
  }
 ],
 "metadata": {
  "kernelspec": {
   "display_name": "Python 2",
   "language": "python",
   "name": "python2"
  },
  "language_info": {
   "codemirror_mode": {
    "name": "ipython",
    "version": 2
   },
   "file_extension": ".py",
   "mimetype": "text/x-python",
   "name": "python",
   "nbconvert_exporter": "python",
   "pygments_lexer": "ipython2",
   "version": "2.7.10"
  }
 },
 "nbformat": 4,
 "nbformat_minor": 0
}
