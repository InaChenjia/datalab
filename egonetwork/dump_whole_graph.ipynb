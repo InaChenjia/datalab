{
 "cells": [
  {
   "cell_type": "code",
   "execution_count": 1,
   "metadata": {
    "collapsed": true
   },
   "outputs": [],
   "source": [
    "# > nohup python my_python_program.py &\n",
    "\n",
    "# console = logging.StreamHandler()\n",
    "# console.setLevel(logging.INFO)\n",
    "# formatter = logging.Formatter('%(name)-12s: %(levelname)-8s %(message)s')\n",
    "# console.setFormatter(formatter)\n",
    "# logging.getLogger('').addHandler(console)\n",
    "\n",
    "# logging.warning('This is warning message')\n",
    "# logging.info('This is info message')\n",
    "# logging.debug('This is debug message')"
   ]
  },
  {
   "cell_type": "code",
   "execution_count": 2,
   "metadata": {
    "collapsed": true
   },
   "outputs": [],
   "source": [
    "# dump all callers\n",
    "\n",
    "def get_users(info):\n",
    "    try:\n",
    "        data  = open(\"/home/sysadmin/zhicongchen/data/phone_data/tb_\" + info + \"_201202.txt\", \"r\").readlines()\n",
    "        out = open(\"/home/sysadmin/zhicongchen/data/phone_data/tb_\" + info + \"_users.txt\", \"w\")\n",
    "    except Exception as e:\n",
    "        print e\n",
    "\n",
    "    for i in data:\n",
    "        line = i.strip('\\r\\n').split('\\t')\n",
    "        out.write(line[1]+',')\n",
    "        out.write(line[2]+'\\r\\n')\n",
    "        \n",
    "#get_users(\"call\")\n",
    "#get_users(\"sms\")\n",
    "\n",
    "# dump whole graph\n",
    "\n",
    "def dump_relations(info):\n",
    "    try:\n",
    "        users = open('/home/sysadmin/zhicongchen/data/phone_data/tb_' + info + '_users.txt').readlines()\n",
    "    except Exception as e:\n",
    "        print e\n",
    "    \n",
    "    import networkx as nx\n",
    "    G = nx.Graph()\n",
    "    callers = []\n",
    "    \n",
    "    for i in users:\n",
    "        line = i.strip('\\r\\n').split(',')\n",
    "        G.add_edge(line[0], line[1])\n",
    "        callers.append(line[0])\n",
    "    \n",
    "    try:\n",
    "        import cPickle as pickle\n",
    "    except ImportError:\n",
    "        import pickle\n",
    "\n",
    "    try:\n",
    "        f = open('../dumps/' + info + '_dump.txt', 'wb')\n",
    "        pickle.dump(callers, f)\n",
    "        f.close()\n",
    "        \n",
    "        f = open('../dumps/' + info + '_graph_dump.txt', 'wb')\n",
    "        pickle.dump(G, f)\n",
    "        f.close()\n",
    "    except Exception as e:\n",
    "        print e\n",
    "    \n",
    "\n",
    "#dump_relations('call')\n",
    "#dump_relations('sms')"
   ]
  }
 ],
 "metadata": {
  "kernelspec": {
   "display_name": "Python 2",
   "language": "python",
   "name": "python2"
  },
  "language_info": {
   "codemirror_mode": {
    "name": "ipython",
    "version": 2
   },
   "file_extension": ".py",
   "mimetype": "text/x-python",
   "name": "python",
   "nbconvert_exporter": "python",
   "pygments_lexer": "ipython2",
   "version": "2.7.10"
  }
 },
 "nbformat": 4,
 "nbformat_minor": 0
}
