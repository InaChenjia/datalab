{
 "cells": [
  {
   "cell_type": "code",
   "execution_count": 47,
   "metadata": {
    "collapsed": false
   },
   "outputs": [],
   "source": [
    "samples = map(lambda x: x.strip('\\r\\n'), open('./samples/call_samples.txt', 'r').readlines())\n",
    "#print samples"
   ]
  },
  {
   "cell_type": "code",
   "execution_count": 48,
   "metadata": {
    "collapsed": false
   },
   "outputs": [],
   "source": [
    "eg3sizes = map(lambda i: i.strip('\\n').split(': ')[-1], open('./logs/call_eg3size.log').readlines())\n",
    "#print eg3sizes"
   ]
  },
  {
   "cell_type": "code",
   "execution_count": 49,
   "metadata": {
    "collapsed": false
   },
   "outputs": [],
   "source": [
    "import pandas as pd\n",
    "user_data = pd.read_csv('/home/sysadmin/zhicongchen/DataSets/phone_data/tb_user_info_201202.csv')"
   ]
  },
  {
   "cell_type": "code",
   "execution_count": 50,
   "metadata": {
    "collapsed": false
   },
   "outputs": [],
   "source": [
    "#samples = samples[:100]\n",
    "#eg3sizes = eg3sizes[:100]\n",
    "N = len(samples)\n",
    "user_data = user_data.fillna(0)\n",
    "ages =  map(lambda x: user_data.AGE[user_data.ACC_NBR == int(samples[x])].tolist()[0], range(N))\n",
    "#print ages"
   ]
  },
  {
   "cell_type": "code",
   "execution_count": 51,
   "metadata": {
    "collapsed": false
   },
   "outputs": [],
   "source": [
    "user_data = user_data.fillna(0)\n",
    "consume_amt =  map(lambda x: user_data.CONSUME_AMT[user_data.ACC_NBR == int(samples[x])].tolist()[0], range(N))\n",
    "#print consume_amt"
   ]
  },
  {
   "cell_type": "code",
   "execution_count": 52,
   "metadata": {
    "collapsed": false
   },
   "outputs": [],
   "source": [
    "user_data = user_data.fillna(0)\n",
    "terminal_price =  map(lambda x: user_data.TERMINAL_PRICE[user_data.ACC_NBR == int(samples[x])].tolist()[0], range(N))\n",
    "#print terminal_price"
   ]
  },
  {
   "cell_type": "code",
   "execution_count": 53,
   "metadata": {
    "collapsed": false
   },
   "outputs": [
    {
     "data": {
      "text/plain": [
       "(array([ 107.,    3.,  136.,  261.,  207.,  175.,   47.,   37.,   16.,   11.]),\n",
       " array([  0. ,   8.5,  17. ,  25.5,  34. ,  42.5,  51. ,  59.5,  68. ,\n",
       "         76.5,  85. ]),\n",
       " <a list of 10 Patch objects>)"
      ]
     },
     "execution_count": 53,
     "metadata": {},
     "output_type": "execute_result"
    },
    {
     "data": {
      "image/png": "[encoded data removed]",
      "text/plain": [
       "<matplotlib.figure.Figure at 0x7feb934ef5d0>"
      ]
     },
     "metadata": {},
     "output_type": "display_data"
    }
   ],
   "source": [
    "import matplotlib.pyplot as plt\n",
    "import numpy as np\n",
    "%matplotlib inline\n",
    "plt.hist(ages)"
   ]
  },
  {
   "cell_type": "code",
   "execution_count": 54,
   "metadata": {
    "collapsed": false
   },
   "outputs": [
    {
     "data": {
      "text/plain": [
       "(array([ 586.,   51.,   23.,   29.,   79.,    8.,    6.,  162.,   44.,   12.]),\n",
       " array([  2.00000000e+00,   3.88289200e+05,   7.76576400e+05,\n",
       "          1.16486360e+06,   1.55315080e+06,   1.94143800e+06,\n",
       "          2.32972520e+06,   2.71801240e+06,   3.10629960e+06,\n",
       "          3.49458680e+06,   3.88287400e+06]),\n",
       " <a list of 10 Patch objects>)"
      ]
     },
     "execution_count": 54,
     "metadata": {},
     "output_type": "execute_result"
    },
    {
     "data": {
      "image/png": "[encoded data removed]",
      "text/plain": [
       "<matplotlib.figure.Figure at 0x7feb933b5650>"
      ]
     },
     "metadata": {},
     "output_type": "display_data"
    }
   ],
   "source": [
    "plt.hist(map(lambda i: int(i), eg3sizes))"
   ]
  },
  {
   "cell_type": "code",
   "execution_count": 55,
   "metadata": {
    "collapsed": false
   },
   "outputs": [
    {
     "data": {
      "text/plain": [
       "(array([ 740.,  200.,   35.,   10.,    7.,    2.,    3.,    1.,    1.,    1.]),\n",
       " array([ -10. ,   50.4,  110.8,  171.2,  231.6,  292. ,  352.4,  412.8,\n",
       "         473.2,  533.6,  594. ]),\n",
       " <a list of 10 Patch objects>)"
      ]
     },
     "execution_count": 55,
     "metadata": {},
     "output_type": "execute_result"
    },
    {
     "data": {
      "image/png": "[encoded data removed]",
      "text/plain": [
       "<matplotlib.figure.Figure at 0x7feb81b2a290>"
      ]
     },
     "metadata": {},
     "output_type": "display_data"
    }
   ],
   "source": [
    "plt.hist(map(lambda i: int(i), consume_amt))"
   ]
  },
  {
   "cell_type": "code",
   "execution_count": 56,
   "metadata": {
    "collapsed": false
   },
   "outputs": [
    {
     "data": {
      "text/plain": [
       "(array([ 868.,   66.,   25.,    9.,   14.,    5.,    1.,    0.,    0.,   12.]),\n",
       " array([    0.,   400.,   800.,  1200.,  1600.,  2000.,  2400.,  2800.,\n",
       "         3200.,  3600.,  4000.]),\n",
       " <a list of 10 Patch objects>)"
      ]
     },
     "execution_count": 56,
     "metadata": {},
     "output_type": "execute_result"
    },
    {
     "data": {
      "image/png": "[encoded data removed]",
      "text/plain": [
       "<matplotlib.figure.Figure at 0x7feb82037510>"
      ]
     },
     "metadata": {},
     "output_type": "display_data"
    }
   ],
   "source": [
    "plt.hist(map(lambda i: int(i), terminal_price))"
   ]
  },
  {
   "cell_type": "markdown",
   "metadata": {},
   "source": [
    "#Linear Regression"
   ]
  },
  {
   "cell_type": "code",
   "execution_count": 40,
   "metadata": {
    "collapsed": false
   },
   "outputs": [
    {
     "data": {
      "image/png": "[encoded data removed]",
      "text/plain": [
       "<matplotlib.figure.Figure at 0x7feb92eaaf90>"
      ]
     },
     "metadata": {},
     "output_type": "display_data"
    }
   ],
   "source": [
    "from sklearn.cross_validation import cross_val_predict\n",
    "from sklearn import linear_model\n",
    "import matplotlib.pyplot as plt\n",
    "import numpy as np\n",
    "%matplotlib inline\n",
    "\n",
    "lr = linear_model.LinearRegression()\n",
    "#X = np.array(map(lambda i,j: [int(i),int(j)], eg3sizes, consume_amt))\n",
    "X = np.array(map(lambda i: int(i), eg3sizes))\n",
    "y = np.array(map(lambda i: int(i), consume_amt))\n",
    "\n",
    "X = np.array(map(lambda x: (int(x),1), X))\n",
    "y = np.array(map(lambda x: (int(x),1), y))\n",
    "\n",
    "# cross_val_predict returns an array of the same size as `y` where each entry\n",
    "# is a prediction obtained by cross validated:\n",
    "predicted = cross_val_predict(lr, X, y, cv=10)\n",
    "\n",
    "fig, ax = plt.subplots()\n",
    "ax.scatter(y, predicted)\n",
    "ax.plot([y.min(), y.max()], [y.min(), y.max()], 'r-', lw=4)\n",
    "ax.set_xlabel('Measured')\n",
    "ax.set_ylabel('Predicted')\n",
    "#plt.xscale('log')\n",
    "#plt.yscale('log')\n",
    "plt.show()"
   ]
  },
  {
   "cell_type": "code",
   "execution_count": 14,
   "metadata": {
    "collapsed": false
   },
   "outputs": [
    {
     "name": "stdout",
     "output_type": "stream",
     "text": [
      "('Coefficients: \\n', array([[  7.22211594e-06,   0.00000000e+00],\n",
      "       [  0.00000000e+00,   0.00000000e+00]]))\n",
      "Residual sum of squares: 389.10\n",
      "Variance score: 0.08\n"
     ]
    },
    {
     "data": {
      "image/png": "[encoded data removed]",
      "text/plain": [
       "<matplotlib.figure.Figure at 0x7feb81d5eb10>"
      ]
     },
     "metadata": {},
     "output_type": "display_data"
    }
   ],
   "source": [
    "import matplotlib.pyplot as plt\n",
    "import numpy as np\n",
    "from sklearn import datasets, linear_model\n",
    "\n",
    "# Load the diabetes dataset\n",
    "X = np.array(map(lambda i: int(i), eg3sizes))\n",
    "y = np.array(map(lambda i: int(i), consume_amt))\n",
    "\n",
    "X = np.array(map(lambda x: (int(x),1), X))\n",
    "y = np.array(map(lambda x: (int(x),1), y))\n",
    "\n",
    "\n",
    "# Use only one feature\n",
    "diabetes_X = X\n",
    "\n",
    "# Split the data into training/testing sets\n",
    "diabetes_X_train = diabetes_X[:-20]\n",
    "diabetes_X_test = diabetes_X[-20:]\n",
    "\n",
    "# Split the targets into training/testing sets\n",
    "diabetes_y_train = y[:-20]\n",
    "diabetes_y_test = y[-20:]\n",
    "\n",
    "# Create linear regression object\n",
    "regr = linear_model.LinearRegression()\n",
    "\n",
    "# Train the model using the training sets\n",
    "regr.fit(diabetes_X_train, diabetes_y_train)\n",
    "\n",
    "# The coefficients\n",
    "print('Coefficients: \\n', regr.coef_)\n",
    "# The mean square error\n",
    "print(\"Residual sum of squares: %.2f\"\n",
    "      % np.mean((regr.predict(diabetes_X_test) - diabetes_y_test) ** 2))\n",
    "# Explained variance score: 1 is perfect prediction\n",
    "print('Variance score: %.2f' % regr.score(diabetes_X_test, diabetes_y_test))\n",
    "\n",
    "# Plot outputs\n",
    "#plt.scatter(diabetes_X_test, diabetes_y_test,  color='black')\n",
    "plt.scatter(X, y, color='blue')\n",
    "plt.plot(X, regr.predict(X), color='red',\n",
    "         linewidth=3)\n",
    "\n",
    "plt.xlabel('X')\n",
    "plt.ylabel('Y')\n",
    "\n",
    "plt.show()"
   ]
  },
  {
   "cell_type": "code",
   "execution_count": 34,
   "metadata": {
    "collapsed": false
   },
   "outputs": [
    {
     "name": "stdout",
     "output_type": "stream",
     "text": [
      "('Coefficients: \\n', array([[  1.15753404e-05,   0.00000000e+00],\n",
      "       [  0.00000000e+00,   0.00000000e+00]]))\n",
      "Residual sum of squares: 1371.10\n",
      "Variance score: -0.09\n",
      "('Coefficients: \\n', array([[  2.79802319e-06,   0.00000000e+00],\n",
      "       [  0.00000000e+00,   0.00000000e+00]]))\n",
      "Residual sum of squares: 966.49\n",
      "Variance score: -0.03\n",
      "('Coefficients: \\n', array([[  1.09851665e-05,   0.00000000e+00],\n",
      "       [  0.00000000e+00,   0.00000000e+00]]))\n",
      "Residual sum of squares: 438.37\n",
      "Variance score: -0.07\n",
      "('Coefficients: \\n', array([[  1.37569361e-05,   0.00000000e+00],\n",
      "       [  0.00000000e+00,   0.00000000e+00]]))\n",
      "Residual sum of squares: 349.66\n",
      "Variance score: -1.14\n",
      "('Coefficients: \\n', array([[  3.54913186e-06,   0.00000000e+00],\n",
      "       [  0.00000000e+00,   0.00000000e+00]]))\n",
      "Residual sum of squares: 547.18\n",
      "Variance score: -0.07\n",
      "('Coefficients: \\n', array([[  1.20109361e-05,   0.00000000e+00],\n",
      "       [  0.00000000e+00,   0.00000000e+00]]))\n",
      "Residual sum of squares: 817.82\n",
      "Variance score: -3.49\n",
      "('Coefficients: \\n', array([[  8.98762661e-06,   0.00000000e+00],\n",
      "       [  0.00000000e+00,   0.00000000e+00]]))\n",
      "Residual sum of squares: 497.63\n",
      "Variance score: -0.20\n",
      "('Coefficients: \\n', array([[  6.84838013e-06,   0.00000000e+00],\n",
      "       [  0.00000000e+00,   0.00000000e+00]]))\n",
      "Residual sum of squares: 1060.30\n",
      "Variance score: -0.01\n",
      "('Coefficients: \\n', array([[  4.35534814e-06,   0.00000000e+00],\n",
      "       [  0.00000000e+00,   0.00000000e+00]]))\n",
      "Residual sum of squares: 2266.47\n",
      "Variance score: -0.01\n",
      "('Coefficients: \\n', array([[  9.50693859e-06,   0.00000000e+00],\n",
      "       [  0.00000000e+00,   0.00000000e+00]]))\n",
      "Residual sum of squares: 389.56\n",
      "Variance score: 0.08\n"
     ]
    }
   ],
   "source": [
    "import matplotlib.pyplot as plt\n",
    "import numpy as np\n",
    "from sklearn import datasets, linear_model\n",
    "import matplotlib\n",
    "matplotlib.rc(\"savefig\", dpi=150)\n",
    "\n",
    "path = './pictures/'\n",
    "\n",
    "for i in range(10):\n",
    "    sample = samples[i*100:(i+1)*100]\n",
    "    eg3size = eg3sizes[i*100:(i+1)*100]\n",
    "    \n",
    "    N = len(sample)\n",
    "    user_data = user_data.fillna(0)\n",
    "    consume_amt =  map(lambda x: user_data.CONSUME_AMT[user_data.ACC_NBR == int(sample[x])].tolist()[0], range(N))\n",
    "    #print consume_amt\n",
    "\n",
    "    # Load the diabetes dataset\n",
    "    X = np.array(map(lambda i: int(i), eg3size))\n",
    "    y = np.array(map(lambda i: int(i), consume_amt))\n",
    "\n",
    "    X = np.array(map(lambda x: (int(x),1), X))\n",
    "    y = np.array(map(lambda x: (int(x),1), y))\n",
    "\n",
    "\n",
    "    # Use only one feature\n",
    "    diabetes_X = X\n",
    "\n",
    "    # Split the data into training/testing sets\n",
    "    diabetes_X_train = diabetes_X[:-20]\n",
    "    diabetes_X_test = diabetes_X[-20:]\n",
    "\n",
    "    # Split the targets into training/testing sets\n",
    "    diabetes_y_train = y[:-20]\n",
    "    diabetes_y_test = y[-20:]\n",
    "\n",
    "    # Create linear regression object\n",
    "    regr = linear_model.LinearRegression()\n",
    "\n",
    "    # Train the model using the training sets\n",
    "    regr.fit(diabetes_X_train, diabetes_y_train)\n",
    "\n",
    "    # The coefficients\n",
    "    print('Coefficients: \\n', regr.coef_)\n",
    "    # The mean square error\n",
    "    print(\"Residual sum of squares: %.2f\"\n",
    "          % np.mean((regr.predict(diabetes_X_test) - diabetes_y_test) ** 2))\n",
    "    # Explained variance score: 1 is perfect prediction\n",
    "    print('Variance score: %.2f' % regr.score(diabetes_X_test, diabetes_y_test))\n",
    "\n",
    "    # Plot outputs\n",
    "    #plt.scatter(diabetes_X_test, diabetes_y_test,  color='black')\n",
    "    plt.scatter(X, y, color='blue')\n",
    "    plt.plot(X, regr.predict(X), color='red',\n",
    "             linewidth=3)\n",
    "\n",
    "    plt.xlabel('X')\n",
    "    plt.ylabel('Y')\n",
    "\n",
    "    plt.savefig(path + 'MyFig' + str(i) + '.jpg') \n",
    "    plt.close()"
   ]
  },
  {
   "cell_type": "markdown",
   "metadata": {},
   "source": [
    "#SVR"
   ]
  },
  {
   "cell_type": "code",
   "execution_count": 15,
   "metadata": {
    "collapsed": false
   },
   "outputs": [
    {
     "data": {
      "image/png": "[encoded data removed]",
      "text/plain": [
       "<matplotlib.figure.Figure at 0x7feb82a5b990>"
      ]
     },
     "metadata": {},
     "output_type": "display_data"
    }
   ],
   "source": [
    "import numpy as np\n",
    "from sklearn.svm import SVR\n",
    "import matplotlib.pyplot as plt\n",
    "%matplotlib inline\n",
    "\n",
    "###############################################################################\n",
    "# Generate sample data\n",
    "X = np.array(map(lambda x: [x], eg3sizes))\n",
    "y = np.array(consume_amt)\n",
    "\n",
    "#X = np.array(map(lambda i: int(i), eg3sizes))\n",
    "#y = np.array(map(lambda i: int(i), consume_amt))\n",
    "\n",
    "###############################################################################\n",
    "# Add noise to targets\n",
    "# y[::5] += 3 * (0.5 - np.random.rand(8))\n",
    "\n",
    "###############################################################################\n",
    "# Fit regression model\n",
    "svr_rbf = SVR(kernel='rbf', C=1e3, gamma=0.1)\n",
    "#svr_lin = SVR(kernel='linear', C=1e3)\n",
    "#svr_poly = SVR(kernel='poly', C=1e3, degree=2)\n",
    "y_rbf = svr_rbf.fit(X, y).predict(X)\n",
    "#y_lin = svr_lin.fit(X, y).predict(X)\n",
    "#y_poly = svr_poly.fit(X, y).predict(X)\n",
    "\n",
    "###############################################################################\n",
    "# look at the results\n",
    "plt.scatter(X, y, c='k', label='data')\n",
    "plt.hold('on')\n",
    "#plt.plot(X, y_rbf, c='g', label='RBF model')\n",
    "#plt.plot(X, y_lin, c='r', label='Linear model')\n",
    "#plt.plot(X, y_poly, c='b', label='Polynomial model')\n",
    "plt.xlabel('data')\n",
    "plt.ylabel('target')\n",
    "plt.title('Support Vector Regression')\n",
    "plt.legend()\n",
    "plt.show()"
   ]
  },
  {
   "cell_type": "code",
   "execution_count": null,
   "metadata": {
    "collapsed": true
   },
   "outputs": [],
   "source": []
  }
 ],
 "metadata": {
  "kernelspec": {
   "display_name": "Python 2",
   "language": "python",
   "name": "python2"
  },
  "language_info": {
   "codemirror_mode": {
    "name": "ipython",
    "version": 2
   },
   "file_extension": ".py",
   "mimetype": "text/x-python",
   "name": "python",
   "nbconvert_exporter": "python",
   "pygments_lexer": "ipython2",
   "version": "2.7.10"
  }
 },
 "nbformat": 4,
 "nbformat_minor": 0
}
