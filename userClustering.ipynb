{
 "cells": [
  {
   "cell_type": "code",
   "execution_count": 1,
   "metadata": {
    "collapsed": true
   },
   "outputs": [],
   "source": [
    "import pandas as pd\n",
    "get_ipython().magic(u'matplotlib inline')\n",
    "import matplotlib.pyplot as plt\n",
    "import numpy as np\n",
    "from numpy import *\n",
    "from sklearn.cluster import KMeans"
   ]
  },
  {
   "cell_type": "code",
   "execution_count": 2,
   "metadata": {
    "collapsed": true
   },
   "outputs": [],
   "source": [
    "data = pd.read_csv('/home/sysadmin/zhicongchen/DataSets/phone_data/phone_data/tb_user_info_201202.csv')"
   ]
  },
  {
   "cell_type": "code",
   "execution_count": 3,
   "metadata": {
    "collapsed": false
   },
   "outputs": [
    {
     "data": {
      "text/html": [
       "<div>\n",
       "<table border=\"1\" class=\"dataframe\">\n",
       "  <thead>\n",
       "    <tr style=\"text-align: right;\">\n",
       "      <th></th>\n",
       "      <th>ACC_NBR</th>\n",
       "      <th>URBAN_RURAL_ID</th>\n",
       "      <th>CERTI_LATN</th>\n",
       "      <th>GENDER</th>\n",
       "      <th>AGE</th>\n",
       "      <th>CUST_LEVEL</th>\n",
       "      <th>CUST_WORK_TYPE</th>\n",
       "      <th>OS_TYPE</th>\n",
       "      <th>TERMINAL_PRICE</th>\n",
       "      <th>INNET_DATE</th>\n",
       "      <th>...</th>\n",
       "      <th>LOCAL_CALL_FEE</th>\n",
       "      <th>LONG_CALL_FEE</th>\n",
       "      <th>ROAM_CALL_FEE</th>\n",
       "      <th>CALL_FEE</th>\n",
       "      <th>VALUE_ADDED_FEE</th>\n",
       "      <th>SMS_FEE</th>\n",
       "      <th>STOP_CNT</th>\n",
       "      <th>OFR_CHANGE_CNT</th>\n",
       "      <th>INNET_FLOAT_AMT</th>\n",
       "      <th>INNET_DUR</th>\n",
       "    </tr>\n",
       "  </thead>\n",
       "  <tbody>\n",
       "    <tr>\n",
       "      <th>382774</th>\n",
       "      <td>360119</td>\n",
       "      <td>-1</td>\n",
       "      <td>564</td>\n",
       "      <td>F</td>\n",
       "      <td>29</td>\n",
       "      <td>3</td>\n",
       "      <td>56</td>\n",
       "      <td>0</td>\n",
       "      <td>0</td>\n",
       "      <td>2011-03-10</td>\n",
       "      <td>...</td>\n",
       "      <td>90.95</td>\n",
       "      <td>67.57</td>\n",
       "      <td>5.4</td>\n",
       "      <td>163.92</td>\n",
       "      <td>0</td>\n",
       "      <td>8.80</td>\n",
       "      <td>0</td>\n",
       "      <td>2</td>\n",
       "      <td>0.02</td>\n",
       "      <td>0.15</td>\n",
       "    </tr>\n",
       "    <tr>\n",
       "      <th>382775</th>\n",
       "      <td>360173</td>\n",
       "      <td>0</td>\n",
       "      <td>551</td>\n",
       "      <td>M</td>\n",
       "      <td>52</td>\n",
       "      <td>4</td>\n",
       "      <td>56</td>\n",
       "      <td>0</td>\n",
       "      <td>265</td>\n",
       "      <td>2010-08-13</td>\n",
       "      <td>...</td>\n",
       "      <td>48.08</td>\n",
       "      <td>1.40</td>\n",
       "      <td>0.0</td>\n",
       "      <td>49.48</td>\n",
       "      <td>0</td>\n",
       "      <td>0.43</td>\n",
       "      <td>0</td>\n",
       "      <td>1</td>\n",
       "      <td>0.00</td>\n",
       "      <td>0.00</td>\n",
       "    </tr>\n",
       "    <tr>\n",
       "      <th>382776</th>\n",
       "      <td>360250</td>\n",
       "      <td>-1</td>\n",
       "      <td>551</td>\n",
       "      <td>F</td>\n",
       "      <td>38</td>\n",
       "      <td>3</td>\n",
       "      <td>56</td>\n",
       "      <td>0</td>\n",
       "      <td>0</td>\n",
       "      <td>2011-07-26</td>\n",
       "      <td>...</td>\n",
       "      <td>8.20</td>\n",
       "      <td>0.00</td>\n",
       "      <td>0.0</td>\n",
       "      <td>8.20</td>\n",
       "      <td>0</td>\n",
       "      <td>2.30</td>\n",
       "      <td>0</td>\n",
       "      <td>1</td>\n",
       "      <td>38.50</td>\n",
       "      <td>5.63</td>\n",
       "    </tr>\n",
       "    <tr>\n",
       "      <th>382777</th>\n",
       "      <td>360289</td>\n",
       "      <td>-1</td>\n",
       "      <td>551</td>\n",
       "      <td>M</td>\n",
       "      <td>37</td>\n",
       "      <td>4</td>\n",
       "      <td>56</td>\n",
       "      <td>0</td>\n",
       "      <td>300</td>\n",
       "      <td>2011-12-20</td>\n",
       "      <td>...</td>\n",
       "      <td>10.50</td>\n",
       "      <td>0.00</td>\n",
       "      <td>4.4</td>\n",
       "      <td>14.90</td>\n",
       "      <td>0</td>\n",
       "      <td>0.37</td>\n",
       "      <td>0</td>\n",
       "      <td>1</td>\n",
       "      <td>3.16</td>\n",
       "      <td>2.27</td>\n",
       "    </tr>\n",
       "    <tr>\n",
       "      <th>382778</th>\n",
       "      <td>360353</td>\n",
       "      <td>0</td>\n",
       "      <td>551</td>\n",
       "      <td>M</td>\n",
       "      <td>37</td>\n",
       "      <td>4</td>\n",
       "      <td>56</td>\n",
       "      <td>0</td>\n",
       "      <td>498</td>\n",
       "      <td>2009-12-26</td>\n",
       "      <td>...</td>\n",
       "      <td>7.03</td>\n",
       "      <td>1.00</td>\n",
       "      <td>0.0</td>\n",
       "      <td>8.03</td>\n",
       "      <td>0</td>\n",
       "      <td>0.00</td>\n",
       "      <td>0</td>\n",
       "      <td>1</td>\n",
       "      <td>0.00</td>\n",
       "      <td>0.07</td>\n",
       "    </tr>\n",
       "  </tbody>\n",
       "</table>\n",
       "<p>5 rows × 25 columns</p>\n",
       "</div>"
      ],
      "text/plain": [
       "        ACC_NBR  URBAN_RURAL_ID  CERTI_LATN GENDER  AGE  CUST_LEVEL  \\\n",
       "382774   360119              -1         564      F   29           3   \n",
       "382775   360173               0         551      M   52           4   \n",
       "382776   360250              -1         551      F   38           3   \n",
       "382777   360289              -1         551      M   37           4   \n",
       "382778   360353               0         551      M   37           4   \n",
       "\n",
       "        CUST_WORK_TYPE OS_TYPE  TERMINAL_PRICE  INNET_DATE    ...      \\\n",
       "382774              56       0               0  2011-03-10    ...       \n",
       "382775              56       0             265  2010-08-13    ...       \n",
       "382776              56       0               0  2011-07-26    ...       \n",
       "382777              56       0             300  2011-12-20    ...       \n",
       "382778              56       0             498  2009-12-26    ...       \n",
       "\n",
       "        LOCAL_CALL_FEE  LONG_CALL_FEE  ROAM_CALL_FEE  CALL_FEE  \\\n",
       "382774           90.95          67.57            5.4    163.92   \n",
       "382775           48.08           1.40            0.0     49.48   \n",
       "382776            8.20           0.00            0.0      8.20   \n",
       "382777           10.50           0.00            4.4     14.90   \n",
       "382778            7.03           1.00            0.0      8.03   \n",
       "\n",
       "        VALUE_ADDED_FEE  SMS_FEE  STOP_CNT  OFR_CHANGE_CNT  INNET_FLOAT_AMT  \\\n",
       "382774                0     8.80         0               2             0.02   \n",
       "382775                0     0.43         0               1             0.00   \n",
       "382776                0     2.30         0               1            38.50   \n",
       "382777                0     0.37         0               1             3.16   \n",
       "382778                0     0.00         0               1             0.00   \n",
       "\n",
       "        INNET_DUR  \n",
       "382774       0.15  \n",
       "382775       0.00  \n",
       "382776       5.63  \n",
       "382777       2.27  \n",
       "382778       0.07  \n",
       "\n",
       "[5 rows x 25 columns]"
      ]
     },
     "execution_count": 3,
     "metadata": {},
     "output_type": "execute_result"
    }
   ],
   "source": [
    "data.tail()"
   ]
  },
  {
   "cell_type": "code",
   "execution_count": 3,
   "metadata": {
    "collapsed": false
   },
   "outputs": [
    {
     "name": "stdout",
     "output_type": "stream",
     "text": [
      "<class 'pandas.core.frame.DataFrame'>\n",
      "Int64Index: 382779 entries, 0 to 382778\n",
      "Data columns (total 2 columns):\n",
      "CONSUME_AMT    382779 non-null float64\n",
      "CALL_FEE       382779 non-null float64\n",
      "dtypes: float64(2)\n",
      "memory usage: 8.8 MB\n"
     ]
    }
   ],
   "source": [
    "# subdata = data[['TERMINAL_PRICE','CUST_LEVEL','CUST_WORK_TYPE','PROB_LEVEL','CONSUME_AMT','WEB_FEE','LOCAL_CALL_FEE','LONG_CALL_FEE','ROAM_CALL_FEE','CALL_FEE','VALUE_ADDED_FEE','SMS_FEE','INNET_FLOAT_AMT','INNET_DUR']]\n",
    "subdata = data[['CONSUME_AMT','CALL_FEE']]\n",
    "subdata = subdata.fillna(0)\n",
    "subdata.info()"
   ]
  },
  {
   "cell_type": "code",
   "execution_count": 4,
   "metadata": {
    "collapsed": false
   },
   "outputs": [
    {
     "data": {
      "text/plain": [
       "CONSUME_AMT    100.36\n",
       "CALL_FEE         0.00\n",
       "Name: 382753, dtype: float64"
      ]
     },
     "execution_count": 4,
     "metadata": {},
     "output_type": "execute_result"
    }
   ],
   "source": [
    "subdata.iloc[382753, :]"
   ]
  },
  {
   "cell_type": "code",
   "execution_count": 5,
   "metadata": {
    "collapsed": false
   },
   "outputs": [
    {
     "data": {
      "text/plain": [
       "numpy.ndarray"
      ]
     },
     "execution_count": 5,
     "metadata": {},
     "output_type": "execute_result"
    }
   ],
   "source": [
    "consume = array(subdata)\n",
    "type(consume)"
   ]
  },
  {
   "cell_type": "code",
   "execution_count": 7,
   "metadata": {
    "collapsed": false
   },
   "outputs": [],
   "source": [
    "kmeans = KMeans(n_clusters=2)\n",
    "kmeans.fit(consume)\n",
    "centroids = kmeans.cluster_centers_\n",
    "labels = kmeans.labels_"
   ]
  },
  {
   "cell_type": "code",
   "execution_count": 8,
   "metadata": {
    "collapsed": false
   },
   "outputs": [
    {
     "data": {
      "text/plain": [
       "array([[  26.12332758,   17.4263573 ],\n",
       "       [ 129.72026396,   86.44420491]])"
      ]
     },
     "execution_count": 8,
     "metadata": {},
     "output_type": "execute_result"
    }
   ],
   "source": [
    "centroids"
   ]
  },
  {
   "cell_type": "code",
   "execution_count": 9,
   "metadata": {
    "collapsed": false
   },
   "outputs": [
    {
     "data": {
      "image/png": "[encoded data removed]",
      "text/plain": [
       "<matplotlib.figure.Figure at 0x7f5390695990>"
      ]
     },
     "metadata": {},
     "output_type": "display_data"
    }
   ],
   "source": [
    "# colors = [\"g.\", \"r.\", \"c.\", \"b.\", \"y.\"]\n",
    "colors = [\"g.\", \"r.\"]\n",
    "\n",
    "for i in range(len(consume)):\n",
    "    # print \"coordinate:\", consume[i], \"label:\", labels[i]\n",
    "    plt.plot(consume[i][0], consume[i][1], colors[labels[i]], markersize=10)\n",
    "    \n",
    "plt.scatter(centroids[:,0], centroids[:,1], marker='x', s=150, linewidth=5, zorder=10)\n",
    "plt.show()"
   ]
  },
  {
   "cell_type": "code",
   "execution_count": null,
   "metadata": {
    "collapsed": true
   },
   "outputs": [],
   "source": []
  }
 ],
 "metadata": {
  "kernelspec": {
   "display_name": "Python 2",
   "language": "python",
   "name": "python2"
  },
  "language_info": {
   "codemirror_mode": {
    "name": "ipython",
    "version": 2
   },
   "file_extension": ".py",
   "mimetype": "text/x-python",
   "name": "python",
   "nbconvert_exporter": "python",
   "pygments_lexer": "ipython2",
   "version": "2.7.10"
  }
 },
 "nbformat": 4,
 "nbformat_minor": 0
}
