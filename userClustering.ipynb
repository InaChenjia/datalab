{
 "cells": [
  {
   "cell_type": "code",
   "execution_count": 1,
   "metadata": {
    "collapsed": true
   },
   "outputs": [],
   "source": [
    "import pandas as pd\n",
    "get_ipython().magic(u'matplotlib inline')\n",
    "import matplotlib.pyplot as plt\n",
    "import numpy as np\n",
    "from numpy import *\n",
    "from sklearn.cluster import KMeans"
   ]
  },
  {
   "cell_type": "code",
   "execution_count": 2,
   "metadata": {
    "collapsed": true
   },
   "outputs": [],
   "source": [
    "data = pd.read_csv('/home/sysadmin/zhicongchen/DataSets/phone_data/phone_data/tb_user_info_201202.csv')"
   ]
  },
  {
   "cell_type": "code",
   "execution_count": 3,
   "metadata": {
    "collapsed": false
   },
   "outputs": [
    {
     "data": {
      "text/html": [
       "<div>\n",
       "<table border=\"1\" class=\"dataframe\">\n",
       "  <thead>\n",
       "    <tr style=\"text-align: right;\">\n",
       "      <th></th>\n",
       "      <th>ACC_NBR</th>\n",
       "      <th>URBAN_RURAL_ID</th>\n",
       "      <th>CERTI_LATN</th>\n",
       "      <th>GENDER</th>\n",
       "      <th>AGE</th>\n",
       "      <th>CUST_LEVEL</th>\n",
       "      <th>CUST_WORK_TYPE</th>\n",
       "      <th>OS_TYPE</th>\n",
       "      <th>TERMINAL_PRICE</th>\n",
       "      <th>INNET_DATE</th>\n",
       "      <th>...</th>\n",
       "      <th>LOCAL_CALL_FEE</th>\n",
       "      <th>LONG_CALL_FEE</th>\n",
       "      <th>ROAM_CALL_FEE</th>\n",
       "      <th>CALL_FEE</th>\n",
       "      <th>VALUE_ADDED_FEE</th>\n",
       "      <th>SMS_FEE</th>\n",
       "      <th>STOP_CNT</th>\n",
       "      <th>OFR_CHANGE_CNT</th>\n",
       "      <th>INNET_FLOAT_AMT</th>\n",
       "      <th>INNET_DUR</th>\n",
       "    </tr>\n",
       "  </thead>\n",
       "  <tbody>\n",
       "    <tr>\n",
       "      <th>382774</th>\n",
       "      <td>360119</td>\n",
       "      <td>-1</td>\n",
       "      <td>564</td>\n",
       "      <td>F</td>\n",
       "      <td>29</td>\n",
       "      <td>3</td>\n",
       "      <td>56</td>\n",
       "      <td>0</td>\n",
       "      <td>0</td>\n",
       "      <td>2011-03-10</td>\n",
       "      <td>...</td>\n",
       "      <td>90.95</td>\n",
       "      <td>67.57</td>\n",
       "      <td>5.4</td>\n",
       "      <td>163.92</td>\n",
       "      <td>0</td>\n",
       "      <td>8.80</td>\n",
       "      <td>0</td>\n",
       "      <td>2</td>\n",
       "      <td>0.02</td>\n",
       "      <td>0.15</td>\n",
       "    </tr>\n",
       "    <tr>\n",
       "      <th>382775</th>\n",
       "      <td>360173</td>\n",
       "      <td>0</td>\n",
       "      <td>551</td>\n",
       "      <td>M</td>\n",
       "      <td>52</td>\n",
       "      <td>4</td>\n",
       "      <td>56</td>\n",
       "      <td>0</td>\n",
       "      <td>265</td>\n",
       "      <td>2010-08-13</td>\n",
       "      <td>...</td>\n",
       "      <td>48.08</td>\n",
       "      <td>1.40</td>\n",
       "      <td>0.0</td>\n",
       "      <td>49.48</td>\n",
       "      <td>0</td>\n",
       "      <td>0.43</td>\n",
       "      <td>0</td>\n",
       "      <td>1</td>\n",
       "      <td>0.00</td>\n",
       "      <td>0.00</td>\n",
       "    </tr>\n",
       "    <tr>\n",
       "      <th>382776</th>\n",
       "      <td>360250</td>\n",
       "      <td>-1</td>\n",
       "      <td>551</td>\n",
       "      <td>F</td>\n",
       "      <td>38</td>\n",
       "      <td>3</td>\n",
       "      <td>56</td>\n",
       "      <td>0</td>\n",
       "      <td>0</td>\n",
       "      <td>2011-07-26</td>\n",
       "      <td>...</td>\n",
       "      <td>8.20</td>\n",
       "      <td>0.00</td>\n",
       "      <td>0.0</td>\n",
       "      <td>8.20</td>\n",
       "      <td>0</td>\n",
       "      <td>2.30</td>\n",
       "      <td>0</td>\n",
       "      <td>1</td>\n",
       "      <td>38.50</td>\n",
       "      <td>5.63</td>\n",
       "    </tr>\n",
       "    <tr>\n",
       "      <th>382777</th>\n",
       "      <td>360289</td>\n",
       "      <td>-1</td>\n",
       "      <td>551</td>\n",
       "      <td>M</td>\n",
       "      <td>37</td>\n",
       "      <td>4</td>\n",
       "      <td>56</td>\n",
       "      <td>0</td>\n",
       "      <td>300</td>\n",
       "      <td>2011-12-20</td>\n",
       "      <td>...</td>\n",
       "      <td>10.50</td>\n",
       "      <td>0.00</td>\n",
       "      <td>4.4</td>\n",
       "      <td>14.90</td>\n",
       "      <td>0</td>\n",
       "      <td>0.37</td>\n",
       "      <td>0</td>\n",
       "      <td>1</td>\n",
       "      <td>3.16</td>\n",
       "      <td>2.27</td>\n",
       "    </tr>\n",
       "    <tr>\n",
       "      <th>382778</th>\n",
       "      <td>360353</td>\n",
       "      <td>0</td>\n",
       "      <td>551</td>\n",
       "      <td>M</td>\n",
       "      <td>37</td>\n",
       "      <td>4</td>\n",
       "      <td>56</td>\n",
       "      <td>0</td>\n",
       "      <td>498</td>\n",
       "      <td>2009-12-26</td>\n",
       "      <td>...</td>\n",
       "      <td>7.03</td>\n",
       "      <td>1.00</td>\n",
       "      <td>0.0</td>\n",
       "      <td>8.03</td>\n",
       "      <td>0</td>\n",
       "      <td>0.00</td>\n",
       "      <td>0</td>\n",
       "      <td>1</td>\n",
       "      <td>0.00</td>\n",
       "      <td>0.07</td>\n",
       "    </tr>\n",
       "  </tbody>\n",
       "</table>\n",
       "<p>5 rows × 25 columns</p>\n",
       "</div>"
      ],
      "text/plain": [
       "        ACC_NBR  URBAN_RURAL_ID  CERTI_LATN GENDER  AGE  CUST_LEVEL  \\\n",
       "382774   360119              -1         564      F   29           3   \n",
       "382775   360173               0         551      M   52           4   \n",
       "382776   360250              -1         551      F   38           3   \n",
       "382777   360289              -1         551      M   37           4   \n",
       "382778   360353               0         551      M   37           4   \n",
       "\n",
       "        CUST_WORK_TYPE OS_TYPE  TERMINAL_PRICE  INNET_DATE    ...      \\\n",
       "382774              56       0               0  2011-03-10    ...       \n",
       "382775              56       0             265  2010-08-13    ...       \n",
       "382776              56       0               0  2011-07-26    ...       \n",
       "382777              56       0             300  2011-12-20    ...       \n",
       "382778              56       0             498  2009-12-26    ...       \n",
       "\n",
       "        LOCAL_CALL_FEE  LONG_CALL_FEE  ROAM_CALL_FEE  CALL_FEE  \\\n",
       "382774           90.95          67.57            5.4    163.92   \n",
       "382775           48.08           1.40            0.0     49.48   \n",
       "382776            8.20           0.00            0.0      8.20   \n",
       "382777           10.50           0.00            4.4     14.90   \n",
       "382778            7.03           1.00            0.0      8.03   \n",
       "\n",
       "        VALUE_ADDED_FEE  SMS_FEE  STOP_CNT  OFR_CHANGE_CNT  INNET_FLOAT_AMT  \\\n",
       "382774                0     8.80         0               2             0.02   \n",
       "382775                0     0.43         0               1             0.00   \n",
       "382776                0     2.30         0               1            38.50   \n",
       "382777                0     0.37         0               1             3.16   \n",
       "382778                0     0.00         0               1             0.00   \n",
       "\n",
       "        INNET_DUR  \n",
       "382774       0.15  \n",
       "382775       0.00  \n",
       "382776       5.63  \n",
       "382777       2.27  \n",
       "382778       0.07  \n",
       "\n",
       "[5 rows x 25 columns]"
      ]
     },
     "execution_count": 3,
     "metadata": {},
     "output_type": "execute_result"
    }
   ],
   "source": [
    "data.tail()"
   ]
  },
  {
   "cell_type": "code",
   "execution_count": 8,
   "metadata": {
    "collapsed": false
   },
   "outputs": [
    {
     "name": "stdout",
     "output_type": "stream",
     "text": [
      "<class 'pandas.core.frame.DataFrame'>\n",
      "Int64Index: 382779 entries, 0 to 382778\n",
      "Data columns (total 14 columns):\n",
      "TERMINAL_PRICE     382779 non-null float64\n",
      "CUST_LEVEL         382779 non-null int64\n",
      "CUST_WORK_TYPE     382779 non-null float64\n",
      "PROB_LEVEL         382779 non-null float64\n",
      "CONSUME_AMT        382779 non-null float64\n",
      "WEB_FEE            382779 non-null float64\n",
      "LOCAL_CALL_FEE     382779 non-null float64\n",
      "LONG_CALL_FEE      382779 non-null float64\n",
      "ROAM_CALL_FEE      382779 non-null float64\n",
      "CALL_FEE           382779 non-null float64\n",
      "VALUE_ADDED_FEE    382779 non-null float64\n",
      "SMS_FEE            382779 non-null float64\n",
      "INNET_FLOAT_AMT    382779 non-null float64\n",
      "INNET_DUR          382779 non-null float64\n",
      "dtypes: float64(13), int64(1)\n",
      "memory usage: 43.8 MB\n"
     ]
    }
   ],
   "source": [
    "subdata = data[['TERMINAL_PRICE','CUST_LEVEL','CUST_WORK_TYPE','PROB_LEVEL','CONSUME_AMT','WEB_FEE','LOCAL_CALL_FEE','LONG_CALL_FEE','ROAM_CALL_FEE','CALL_FEE','VALUE_ADDED_FEE','SMS_FEE','INNET_FLOAT_AMT','INNET_DUR']]\n",
    "subdata = subdata.fillna(0)\n",
    "subdata.info()"
   ]
  },
  {
   "cell_type": "code",
   "execution_count": 10,
   "metadata": {
    "collapsed": false
   },
   "outputs": [
    {
     "data": {
      "text/plain": [
       "TERMINAL_PRICE        0.00\n",
       "CUST_LEVEL           -1.00\n",
       "CUST_WORK_TYPE       56.00\n",
       "PROB_LEVEL          100.00\n",
       "CONSUME_AMT         100.36\n",
       "WEB_FEE             100.36\n",
       "LOCAL_CALL_FEE        0.00\n",
       "LONG_CALL_FEE         0.00\n",
       "ROAM_CALL_FEE         0.00\n",
       "CALL_FEE              0.00\n",
       "VALUE_ADDED_FEE       0.00\n",
       "SMS_FEE               0.00\n",
       "INNET_FLOAT_AMT    1252.39\n",
       "INNET_DUR            45.58\n",
       "Name: 382753, dtype: float64"
      ]
     },
     "execution_count": 10,
     "metadata": {},
     "output_type": "execute_result"
    }
   ],
   "source": [
    "subdata.iloc[382753, :]"
   ]
  },
  {
   "cell_type": "code",
   "execution_count": 12,
   "metadata": {
    "collapsed": false
   },
   "outputs": [
    {
     "data": {
      "text/plain": [
       "numpy.ndarray"
      ]
     },
     "execution_count": 12,
     "metadata": {},
     "output_type": "execute_result"
    }
   ],
   "source": [
    "consume = array(subdata)\n",
    "type(consume)"
   ]
  },
  {
   "cell_type": "code",
   "execution_count": 13,
   "metadata": {
    "collapsed": false
   },
   "outputs": [],
   "source": [
    "kmeans = KMeans(n_clusters=5)\n",
    "kmeans.fit(consume)\n",
    "centroids = kmeans.cluster_centers_\n",
    "labels = kmeans.labels_"
   ]
  },
  {
   "cell_type": "code",
   "execution_count": 14,
   "metadata": {
    "collapsed": false
   },
   "outputs": [
    {
     "data": {
      "text/plain": [
       "array([[  1.19009142e+02,   2.23535379e+00,   5.33496233e+01,\n",
       "          1.13915110e+02,   3.79362531e+01,   4.74839416e+00,\n",
       "          1.48638655e+01,   8.42932246e+00,   2.75768652e+00,\n",
       "          2.60508943e+01,   2.34366500e-01,   3.20303232e+00,\n",
       "          3.70218369e+01,   3.23357813e+01],\n",
       "       [  1.63406250e+02,  -8.75000000e-01,   1.22500000e+01,\n",
       "          6.25000000e+00,   1.16325000e+01,   8.08062500e+00,\n",
       "          3.54000000e+00,   3.55271368e-15,   8.88178420e-16,\n",
       "          3.54000000e+00,  -1.11022302e-16,  -1.33226763e-15,\n",
       "          8.31721712e+04,   3.55359688e+02],\n",
       "       [  2.16407927e+03,   2.68464908e+00,   5.17966029e+01,\n",
       "          1.09119271e+02,   6.53473133e+01,   5.85374853e+00,\n",
       "          1.94569779e+01,   1.06628961e+01,   5.30870473e+00,\n",
       "          3.54285824e+01,   1.25051864e+00,   6.43245326e+00,\n",
       "          2.91623181e+01,   3.01960442e+01],\n",
       "       [  4.12871025e+01,   7.49116608e-01,   4.38268551e+01,\n",
       "          9.86192580e+01,   1.41316590e+02,   1.42092527e+02,\n",
       "          3.20185512e-01,   5.85070671e-02,   1.67226148e-02,\n",
       "          3.95415194e-01,   4.88498131e-15,   3.62190813e-02,\n",
       "          8.10890831e+03,   6.62781625e+01],\n",
       "       [  1.22051948e+02,  -1.55844156e-01,   2.97272727e+01,\n",
       "          4.56948052e+01,   1.53202727e+02,   1.54371104e+02,\n",
       "          2.20772727e+00,   3.38831169e-01,   6.35064935e-01,\n",
       "          3.18155844e+00,  -7.21644966e-16,   3.23376623e-01,\n",
       "          3.00877788e+04,   1.89667662e+02]])"
      ]
     },
     "execution_count": 14,
     "metadata": {},
     "output_type": "execute_result"
    }
   ],
   "source": [
    "centroids"
   ]
  },
  {
   "cell_type": "code",
   "execution_count": 17,
   "metadata": {
    "collapsed": false
   },
   "outputs": [
    {
     "data": {
      "image/png": "[encoded data removed]",
      "text/plain": [
       "<matplotlib.figure.Figure at 0x7f4a0a9ee8d0>"
      ]
     },
     "metadata": {},
     "output_type": "display_data"
    }
   ],
   "source": [
    "colors = [\"g.\", \"r.\", \"c.\", \"b.\", \"y.\"]\n",
    "\n",
    "for i in range(len(consume)):\n",
    "    # print \"coordinate:\", consume[i], \"label:\", labels[i]\n",
    "    plt.plot(consume[i][0], consume[i][1], colors[labels[i]], markersize=10)\n",
    "    \n",
    "plt.scatter(centroids[:,0], centroids[:,1], marker='x', s=150, linewidth=5, zorder=10)\n",
    "plt.show()"
   ]
  },
  {
   "cell_type": "code",
   "execution_count": null,
   "metadata": {
    "collapsed": true
   },
   "outputs": [],
   "source": []
  }
 ],
 "metadata": {
  "kernelspec": {
   "display_name": "Python 2",
   "language": "python",
   "name": "python2"
  },
  "language_info": {
   "codemirror_mode": {
    "name": "ipython",
    "version": 2
   },
   "file_extension": ".py",
   "mimetype": "text/x-python",
   "name": "python",
   "nbconvert_exporter": "python",
   "pygments_lexer": "ipython2",
   "version": "2.7.10"
  }
 },
 "nbformat": 4,
 "nbformat_minor": 0
}
